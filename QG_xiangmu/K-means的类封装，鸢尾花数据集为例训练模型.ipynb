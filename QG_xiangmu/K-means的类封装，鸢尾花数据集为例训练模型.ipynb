{
 "cells": [
  {
   "cell_type": "markdown",
   "id": "a23a619d",
   "metadata": {},
   "source": [
    "# K-means的类封装，鸢尾花数据集为例训练模型"
   ]
  },
  {
   "cell_type": "markdown",
   "id": "71351108",
   "metadata": {},
   "source": [
    "##### 完成项目的目的：熟练理解Kmean里面代码的实际含义，而不是只会调用"
   ]
  },
  {
   "cell_type": "markdown",
   "id": "1e3cbba9",
   "metadata": {},
   "source": [
    "##### 项目要求：参考sklearn接口形式 不允许调用机器学习库，仅可使用numpy 以鸢尾花数据集为例，划分训练集，测试集 完成模型训练并予以评价分析结果"
   ]
  },
  {
   "cell_type": "markdown",
   "id": "bbe600c9",
   "metadata": {},
   "source": [
    "##### KMean库工作原理：<br>重复1.移动中心蔟点的位置到平均中心点（一开始找的点是随机的）<br>2.进行距离判断讲簇点重新分类，直到中心簇点不在变化即模型已经收敛了，或者到达了迭代次数后 则结束"
   ]
  },
  {
   "cell_type": "markdown",
   "id": "2e0e70a4",
   "metadata": {},
   "source": [
    "### 用sklearn库的代码（非本次项目目的）"
   ]
  },
  {
   "cell_type": "code",
   "execution_count": null,
   "id": "5bc23d4f",
   "metadata": {},
   "outputs": [],
   "source": [
    "from sklearn.cluster import KMeans\n",
    "from sklearn.datasets import load_iris\n",
    "from sklearn.model_selection import train_test_split\n",
    "from sklearn.metrics import accuracy_score\n",
    "\n",
    "# 加载鸢尾花数据集\n",
    "iris = load_iris()\n",
    "X, y = iris.data, iris.target\n",
    "\n",
    "# 划分训练集和测试集\n",
    "X_train, X_test, y_train, y_test = train_test_split(X, y, test_size=0.2, random_state=42)\n",
    "\n",
    "# 训练 KMeans 模型\n",
    "kmeans = KMeans(n_clusters=3, random_state=42)\n",
    "kmeans.fit(X_train)\n",
    "\n",
    "# 在测试集上进行预测\n",
    "y_pred = kmeans.predict(X_test)\n",
    "\n",
    "# 评估模型\n",
    "accuracy = accuracy_score(y_test, y_pred)\n",
    "print(\"模型准确率:\", accuracy)\n"
   ]
  },
  {
   "cell_type": "markdown",
   "id": "6847c925",
   "metadata": {},
   "source": [
    "### 代码部分：以下是GPT写的，网上找的知识都是零散的知识点，没有系统的写法。自己在这里只是进行解释"
   ]
  },
  {
   "cell_type": "code",
   "execution_count": 18,
   "id": "586f7be2",
   "metadata": {},
   "outputs": [],
   "source": [
    "import numpy as np\n",
    "\n",
    "class KMeans:\n",
    "    def __init__(self, n_clusters=8, max_iter=300, random_state=None):\n",
    "        self.n_clusters = n_clusters  # 聚类个数\n",
    "        self.max_iter = max_iter  # 最大迭代次数\n",
    "        self.random_state = random_state  # 随机种子,这个是用于随机确定初始的聚类中心的\n",
    "\n",
    "    def fit(self, X):\n",
    "        np.random.seed(self.random_state)\n",
    "        centroids = X[np.random.choice(len(X), self.n_clusters, replace=False)]  # 随机初始化聚类中心\n",
    "\n",
    "        for _ in range(self.max_iter):\n",
    "            # 计算每个样本点到各个聚类中心的距离\n",
    "            distances = np.sqrt(((X - centroids[:, np.newaxis]) ** 2).sum(axis=2))\n",
    "            # 将样本分配到距离最近的聚类中心\n",
    "            labels = np.argmin(distances, axis=0)\n",
    "            # 更新聚类中心\n",
    "            new_centroids = np.array([X[labels == k].mean(axis=0) for k in range(self.n_clusters)])\n",
    "            # 如果聚类中心不再变化，提前结束迭代\n",
    "            if np.all(centroids == new_centroids):\n",
    "                break\n",
    "            centroids = new_centroids\n",
    "\n",
    "        self.labels_ = labels\n",
    "        self.cluster_centers_ = centroids\n",
    "\n",
    "    def predict(self, X):\n",
    "        distances = np.sqrt(((X - self.cluster_centers_[:, np.newaxis]) ** 2).sum(axis=2))\n",
    "        return np.argmin(distances, axis=0)\n",
    "\n",
    "# def train_test_split(X, train_ratio=0.8, random_state=None):\n",
    "#     np.random.seed(random_state)\n",
    "#     indices = np.random.permutation(len(X))\n",
    "#     train_size = int(train_ratio * len(X))\n",
    "#     return X[indices[:train_size]], X[indices[train_size:]]\n",
    "\n",
    "def train_test_split(X, y, train_ratio=0.8, random_state=None):\n",
    "    np.random.seed(random_state)\n",
    "    indices = np.random.permutation(len(X))\n",
    "    train_size = int(train_ratio * len(X))\n",
    "    X_train, X_test = X[indices[:train_size]], X[indices[train_size:]]\n",
    "    y_train, y_test = y[indices[:train_size]], y[indices[train_size:]]\n",
    "    return X_train, X_test, y_train, y_test\n",
    "\n",
    "\n",
    "def accuracy_score(y_true, y_pred):\n",
    "    return np.mean(y_true == y_pred)\n",
    "\n",
    "from sklearn.datasets import fetch_openml"
   ]
  },
  {
   "cell_type": "code",
   "execution_count": 19,
   "id": "050c4579",
   "metadata": {},
   "outputs": [
    {
     "name": "stdout",
     "output_type": "stream",
     "text": [
      "模型准确率: 0.0\n"
     ]
    }
   ],
   "source": [
    "# 加载鸢尾花数据集\n",
    "iris = fetch_openml(name='iris', version=1, parser='auto')\n",
    "X, y = iris.data, iris.target\n",
    "\n",
    "# 划分训练集和测试集\n",
    "# X_train, X_test= train_test_split(X, train_ratio=0.8, random_state=42)\n",
    "# y_train, y_test = train_test_split(y, train_ratio=0.8, random_state=42)\n",
    "X_train, X_test, y_train, y_test = train_test_split(X.values, y.values, train_ratio=0.8, random_state=42)\n",
    "\n",
    "\n",
    "# 训练 KMeans 模型\n",
    "kmeans = KMeans(n_clusters=3, random_state=42)\n",
    "kmeans.fit(X_train)\n",
    "\n",
    "# 在测试集上进行预测\n",
    "y_pred = kmeans.predict(X_test)\n",
    "\n",
    "# 评估模型\n",
    "accuracy = accuracy_score(y_test, y_pred)\n",
    "print(\"模型准确率:\", accuracy)\n",
    "\n"
   ]
  },
  {
   "cell_type": "markdown",
   "id": "37910e6a",
   "metadata": {},
   "source": [
    "### 要改善的地方"
   ]
  },
  {
   "cell_type": "markdown",
   "id": "b785cf9c",
   "metadata": {},
   "source": [
    "问题：<br>\n",
    "1.不知道结果为什么为0.0，我将参数改了其他的也还是0.0<br>\n",
    "2.predict函数里面的算法不理解"
   ]
  },
  {
   "cell_type": "markdown",
   "id": "9232feb0",
   "metadata": {},
   "source": [
    "### 学到的东西"
   ]
  },
  {
   "cell_type": "markdown",
   "id": "7522db4c",
   "metadata": {},
   "source": [
    "1.会复制粘贴套模板"
   ]
  }
 ],
 "metadata": {
  "kernelspec": {
   "display_name": "Python 3 (ipykernel)",
   "language": "python",
   "name": "python3"
  },
  "language_info": {
   "codemirror_mode": {
    "name": "ipython",
    "version": 3
   },
   "file_extension": ".py",
   "mimetype": "text/x-python",
   "name": "python",
   "nbconvert_exporter": "python",
   "pygments_lexer": "ipython3",
   "version": "3.11.4"
  }
 },
 "nbformat": 4,
 "nbformat_minor": 5
}
